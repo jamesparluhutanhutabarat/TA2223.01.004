{
  "nbformat": 4,
  "nbformat_minor": 0,
  "metadata": {
    "colab": {
      "provenance": [],
      "authorship_tag": "ABX9TyMDQcM2jSWvv59EfedB4ZhV",
      "include_colab_link": true
    },
    "kernelspec": {
      "name": "python3",
      "display_name": "Python 3"
    },
    "language_info": {
      "name": "python"
    }
  },
  "cells": [
    {
      "cell_type": "markdown",
      "metadata": {
        "id": "view-in-github",
        "colab_type": "text"
      },
      "source": [
        "<a href=\"https://colab.research.google.com/github/jamesparluhutanhutabarat/TA2223.01.004/blob/main/Human_Activity_Recognition_Based_on_Wearable_Device_and_Spiking_Neural_Networks.ipynb\" target=\"_parent\"><img src=\"https://colab.research.google.com/assets/colab-badge.svg\" alt=\"Open In Colab\"/></a>"
      ]
    },
    {
      "cell_type": "markdown",
      "source": [
        "## **Installation and Usage**\n",
        "\n",
        "---\n",
        "\n",
        "\n",
        "Our implementation is based on Pytorch 1.10 or higher and other libraries. Please install the packages in the requirements.txt:\n",
        "\n"
      ],
      "metadata": {
        "id": "6I8iQ2_FURuG"
      }
    },
    {
      "cell_type": "code",
      "source": [
        "pip install -r "
      ],
      "metadata": {
        "colab": {
          "base_uri": "https://localhost:8080/"
        },
        "id": "eVPENMGOuoFp",
        "outputId": "3b027290-e757-4911-f59b-c2c08f88204f"
      },
      "execution_count": 2,
      "outputs": [
        {
          "output_type": "stream",
          "name": "stdout",
          "text": [
            "\u001b[31mERROR: Invalid requirement: '<!DOCTYPE html>' (from line 8 of https://github.com/Intelligent-Computing-Lab-Yale/SNN_HAR/blob/main/requirements.txt)\u001b[0m\u001b[31m\n",
            "\u001b[0m"
          ]
        }
      ]
    }
  ]
}